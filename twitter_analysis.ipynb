{
 "cells": [
  {
   "cell_type": "code",
   "execution_count": 3,
   "metadata": {
    "collapsed": true
   },
   "outputs": [],
   "source": [
    "### data\n",
    "import pandas as pd\n",
    "import numpy as np\n",
    "\n",
    "### APIs\n",
    "import tweepy\n",
    "\n",
    "## Plots\n",
    "from IPython.display import display\n",
    "import matplotlib.pyplot as plt\n",
    "import seaborn as sea\n",
    "get_ipython().magic('matplotlib inline')\n",
    "\n",
    "# Sentiment analysis\n",
    "from textblob import TextBlob\n",
    "import re"
   ]
  },
  {
   "cell_type": "code",
   "execution_count": 45,
   "metadata": {
    "collapsed": false
   },
   "outputs": [],
   "source": [
    "with open(os.path.join(os.getcwd(),\"data/credentials.json\")) as data_file:    \n",
    "    key = json.load(data_file)\n",
    "\n",
    "#print key[\"API_KEY\"], key[\"API_SECRET\"], key[\"ACCESS_TOKEN\"], key[\"ACCESS_TOKEN_SECRET\"]"
   ]
  },
  {
   "cell_type": "code",
   "execution_count": 46,
   "metadata": {
    "collapsed": false
   },
   "outputs": [],
   "source": [
    "def twitter_setup():\n",
    "    #authentication\n",
    "    auth = tweepy.OAuthHandler(key[\"API_KEY\"], key[\"API_SECRET\"])\n",
    "    auth.set_access_token(key[\"ACCESS_TOKEN\"], key[\"ACCESS_TOKEN_SECRET\"])    \n",
    "    return tweepy.API(auth)\n",
    "\n",
    "extractor = twitter_setup()\n",
    "\n"
   ]
  },
  {
   "cell_type": "code",
   "execution_count": 47,
   "metadata": {
    "collapsed": false
   },
   "outputs": [
    {
     "name": "stdout",
     "output_type": "stream",
     "text": [
      "No. tweets extracted: 100\n",
      "\n"
     ]
    }
   ],
   "source": [
    "tweets = extractor.user_timeline(screen_name=\"cdvel\", count=100)\n",
    "print (\"No. tweets extracted: {}\\n\".format(len(tweets)))"
   ]
  },
  {
   "cell_type": "code",
   "execution_count": 48,
   "metadata": {
    "collapsed": false
   },
   "outputs": [
    {
     "name": "stdout",
     "output_type": "stream",
     "text": [
      "Latest 5 tweets\n",
      "LG has distributed its AI-based platform, DeepThinQ 1.0 to other products as well https://t.co/ewcI9PUo9D via @reddit\n",
      "()\n",
      "How to tame the tech titans - Competition in the digital age https://t.co/toGDcyS3oh\n",
      "()\n",
      "Microsoft execs say in 20 years we'll all have digital assistants that will be our alter egos — and we need to set https://t.co/UvYjDZ3n9q\n",
      "()\n",
      "Facebook's next news feed tweak: ranking 'trusted' sources https://t.co/DG1Nm5QJ3V\n",
      "()\n",
      "Is video really the future of VR? https://t.co/jvafrWeKtV\n",
      "()\n"
     ]
    }
   ],
   "source": [
    "print (\"Latest 5 tweets\")\n",
    "for tweet in tweets[:5]:\n",
    "    print (tweet.text)\n",
    "    print()\n"
   ]
  },
  {
   "cell_type": "code",
   "execution_count": 70,
   "metadata": {
    "collapsed": false
   },
   "outputs": [
    {
     "data": {
      "text/html": [
       "<div>\n",
       "<style>\n",
       "    .dataframe thead tr:only-child th {\n",
       "        text-align: right;\n",
       "    }\n",
       "\n",
       "    .dataframe thead th {\n",
       "        text-align: left;\n",
       "    }\n",
       "\n",
       "    .dataframe tbody tr th {\n",
       "        vertical-align: top;\n",
       "    }\n",
       "</style>\n",
       "<table border=\"1\" class=\"dataframe\">\n",
       "  <thead>\n",
       "    <tr style=\"text-align: right;\">\n",
       "      <th></th>\n",
       "      <th>Tweets</th>\n",
       "      <th>length</th>\n",
       "      <th>id</th>\n",
       "      <th>created</th>\n",
       "      <th>source</th>\n",
       "      <th>no_likes</th>\n",
       "      <th>no_retweets</th>\n",
       "      <th>link</th>\n",
       "    </tr>\n",
       "  </thead>\n",
       "  <tbody>\n",
       "    <tr>\n",
       "      <th>0</th>\n",
       "      <td>LG has distributed its AI-based platform, Deep...</td>\n",
       "      <td>117</td>\n",
       "      <td>955272971609817088</td>\n",
       "      <td>2018-01-22 02:56:39</td>\n",
       "      <td>dlvr.it</td>\n",
       "      <td>0</td>\n",
       "      <td>0</td>\n",
       "      <td>cdvel/status/955272971609817088</td>\n",
       "    </tr>\n",
       "    <tr>\n",
       "      <th>1</th>\n",
       "      <td>How to tame the tech titans - Competition in t...</td>\n",
       "      <td>84</td>\n",
       "      <td>955122950776283136</td>\n",
       "      <td>2018-01-21 17:00:31</td>\n",
       "      <td>Buffer</td>\n",
       "      <td>0</td>\n",
       "      <td>0</td>\n",
       "      <td>cdvel/status/955122950776283136</td>\n",
       "    </tr>\n",
       "    <tr>\n",
       "      <th>2</th>\n",
       "      <td>Microsoft execs say in 20 years we'll all have...</td>\n",
       "      <td>138</td>\n",
       "      <td>955091407093542912</td>\n",
       "      <td>2018-01-21 14:55:10</td>\n",
       "      <td>Crowdfire - Go Big</td>\n",
       "      <td>1</td>\n",
       "      <td>0</td>\n",
       "      <td>cdvel/status/955091407093542912</td>\n",
       "    </tr>\n",
       "    <tr>\n",
       "      <th>3</th>\n",
       "      <td>Facebook's next news feed tweak: ranking 'trus...</td>\n",
       "      <td>82</td>\n",
       "      <td>955088894281830400</td>\n",
       "      <td>2018-01-21 14:45:11</td>\n",
       "      <td>Crowdfire - Go Big</td>\n",
       "      <td>1</td>\n",
       "      <td>0</td>\n",
       "      <td>cdvel/status/955088894281830400</td>\n",
       "    </tr>\n",
       "    <tr>\n",
       "      <th>4</th>\n",
       "      <td>Is video really the future of VR? https://t.co...</td>\n",
       "      <td>57</td>\n",
       "      <td>955085500251017217</td>\n",
       "      <td>2018-01-21 14:31:42</td>\n",
       "      <td>Crowdfire - Go Big</td>\n",
       "      <td>0</td>\n",
       "      <td>0</td>\n",
       "      <td>cdvel/status/955085500251017217</td>\n",
       "    </tr>\n",
       "    <tr>\n",
       "      <th>5</th>\n",
       "      <td>Top 5 VR180 videos you can watch on YouTube wi...</td>\n",
       "      <td>81</td>\n",
       "      <td>954871964115652609</td>\n",
       "      <td>2018-01-21 00:23:11</td>\n",
       "      <td>Crowdfire - Go Big</td>\n",
       "      <td>1</td>\n",
       "      <td>0</td>\n",
       "      <td>cdvel/status/954871964115652609</td>\n",
       "    </tr>\n",
       "    <tr>\n",
       "      <th>6</th>\n",
       "      <td>RT @WIRED: These tech books are worth your mon...</td>\n",
       "      <td>72</td>\n",
       "      <td>954711900201390085</td>\n",
       "      <td>2018-01-20 13:47:09</td>\n",
       "      <td>Twitter for Android</td>\n",
       "      <td>0</td>\n",
       "      <td>50</td>\n",
       "      <td>cdvel/status/954711900201390085</td>\n",
       "    </tr>\n",
       "    <tr>\n",
       "      <th>7</th>\n",
       "      <td>RT @WIRED: \"It was the second most exciting pa...</td>\n",
       "      <td>133</td>\n",
       "      <td>954567688587628544</td>\n",
       "      <td>2018-01-20 04:14:06</td>\n",
       "      <td>Twitter for Android</td>\n",
       "      <td>0</td>\n",
       "      <td>1327</td>\n",
       "      <td>cdvel/status/954567688587628544</td>\n",
       "    </tr>\n",
       "    <tr>\n",
       "      <th>8</th>\n",
       "      <td>How Libratus beat top poker pros for 1.5 milli...</td>\n",
       "      <td>140</td>\n",
       "      <td>954548170675036160</td>\n",
       "      <td>2018-01-20 02:56:33</td>\n",
       "      <td>dlvr.it</td>\n",
       "      <td>0</td>\n",
       "      <td>0</td>\n",
       "      <td>cdvel/status/954548170675036160</td>\n",
       "    </tr>\n",
       "    <tr>\n",
       "      <th>9</th>\n",
       "      <td>Listening to: Voices of AI with Kent Bye: #1: ...</td>\n",
       "      <td>131</td>\n",
       "      <td>954200566627942400</td>\n",
       "      <td>2018-01-19 03:55:17</td>\n",
       "      <td>Twitter for Android</td>\n",
       "      <td>0</td>\n",
       "      <td>0</td>\n",
       "      <td>cdvel/status/954200566627942400</td>\n",
       "    </tr>\n",
       "  </tbody>\n",
       "</table>\n",
       "</div>"
      ],
      "text/plain": [
       "                                              Tweets  length  \\\n",
       "0  LG has distributed its AI-based platform, Deep...     117   \n",
       "1  How to tame the tech titans - Competition in t...      84   \n",
       "2  Microsoft execs say in 20 years we'll all have...     138   \n",
       "3  Facebook's next news feed tweak: ranking 'trus...      82   \n",
       "4  Is video really the future of VR? https://t.co...      57   \n",
       "5  Top 5 VR180 videos you can watch on YouTube wi...      81   \n",
       "6  RT @WIRED: These tech books are worth your mon...      72   \n",
       "7  RT @WIRED: \"It was the second most exciting pa...     133   \n",
       "8  How Libratus beat top poker pros for 1.5 milli...     140   \n",
       "9  Listening to: Voices of AI with Kent Bye: #1: ...     131   \n",
       "\n",
       "                   id             created               source  no_likes  \\\n",
       "0  955272971609817088 2018-01-22 02:56:39              dlvr.it         0   \n",
       "1  955122950776283136 2018-01-21 17:00:31               Buffer         0   \n",
       "2  955091407093542912 2018-01-21 14:55:10   Crowdfire - Go Big         1   \n",
       "3  955088894281830400 2018-01-21 14:45:11   Crowdfire - Go Big         1   \n",
       "4  955085500251017217 2018-01-21 14:31:42   Crowdfire - Go Big         0   \n",
       "5  954871964115652609 2018-01-21 00:23:11   Crowdfire - Go Big         1   \n",
       "6  954711900201390085 2018-01-20 13:47:09  Twitter for Android         0   \n",
       "7  954567688587628544 2018-01-20 04:14:06  Twitter for Android         0   \n",
       "8  954548170675036160 2018-01-20 02:56:33              dlvr.it         0   \n",
       "9  954200566627942400 2018-01-19 03:55:17  Twitter for Android         0   \n",
       "\n",
       "   no_retweets                             link  \n",
       "0            0  cdvel/status/955272971609817088  \n",
       "1            0  cdvel/status/955122950776283136  \n",
       "2            0  cdvel/status/955091407093542912  \n",
       "3            0  cdvel/status/955088894281830400  \n",
       "4            0  cdvel/status/955085500251017217  \n",
       "5            0  cdvel/status/954871964115652609  \n",
       "6           50  cdvel/status/954711900201390085  \n",
       "7         1327  cdvel/status/954567688587628544  \n",
       "8            0  cdvel/status/954548170675036160  \n",
       "9            0  cdvel/status/954200566627942400  "
      ]
     },
     "metadata": {},
     "output_type": "display_data"
    }
   ],
   "source": [
    "data = pd.DataFrame(data=[tweet.text for tweet in tweets], columns=['Tweets'])\n",
    "data['length']  = np.array([len(tweet.text) for tweet in tweets])\n",
    "data['id']   = np.array([tweet.id for tweet in tweets])\n",
    "data['created'] = np.array([tweet.created_at for tweet in tweets])\n",
    "data['source'] = np.array([tweet.source for tweet in tweets])\n",
    "data['no_likes'] = np.array([tweet.favorite_count for tweet in tweets])\n",
    "data['no_retweets'] = np.array([tweet.retweet_count for tweet in tweets])\n",
    "data['slug'] = np.array([''.join([tweet.user.screen_name, '/status/', str(tweet.id)])  for tweet in tweets])\n",
    "\n",
    "\n",
    "#print tweet\n",
    "display(data.head(10))"
   ]
  },
  {
   "cell_type": "code",
   "execution_count": 72,
   "metadata": {
    "collapsed": false,
    "scrolled": true
   },
   "outputs": [
    {
     "name": "stdout",
     "output_type": "stream",
     "text": [
      "Tweet's avg length: 94.96\n",
      "\n",
      "Tweet with most likes: \n",
      "> Microsoft execs say in 20 years we'll all have digital assistants that will be our alter egos — and we need to set https://t.co/UvYjDZ3n9q length=138 ♡=1\n",
      "\n",
      "Tweet most retweeted: \n",
      "> RT @WIRED: \"It was the second most exciting paper I had read in the blockchain era. The first was Satoshi’s.\" https://t.co/h56lb6RJok length=133 RTs=1327\n"
     ]
    }
   ],
   "source": [
    "mean_length = np.mean(data['length'])\n",
    "\n",
    "print(\"Tweet's avg length: {}\".format(mean_length))\n",
    "\n",
    "likes_max = np.max(data['no_likes'])\n",
    "retweets_max = np.max(data['no_retweets'])\n",
    "\n",
    "most_likes = data[data.no_likes == likes_max].index[0]\n",
    "most_retweets = data[data.no_retweets == retweets_max].index[0]\n",
    "\n",
    "\n",
    "print (\"\\nMost liked: \\n> {} length={} ♡={}\".format(data['Tweets'][most_likes].encode('utf-8'), data['length'][most_likes], likes_max))\n",
    "\n",
    "\n",
    "print (\"\\nMost retweeted: \\n> {} length={} RTs={}\".format(data['Tweets'][most_retweets].encode('utf-8'), data['length'][most_retweets], retweets_max))\n",
    "\n"
   ]
  },
  {
   "cell_type": "markdown",
   "metadata": {
    "collapsed": true
   },
   "source": [
    "### References \n",
    "- https://github.com/avisaxena33/Twitter-Data-Sentiment-Analysis-with-Python-Workshop/blob/master/twitter.py\n",
    "\n",
    "### Notes\n",
    "oauthlib, textblob for OSX64\n",
    "- https://anaconda.org/asmeurer/oauthlib\n",
    "- https://anaconda.org/sloria/textblob\n",
    "    "
   ]
  }
 ],
 "metadata": {
  "anaconda-cloud": {},
  "kernelspec": {
   "display_name": "Python [conda env:sent-analysis]",
   "language": "python",
   "name": "conda-env-sent-analysis-py"
  },
  "language_info": {
   "codemirror_mode": {
    "name": "ipython",
    "version": 2
   },
   "file_extension": ".py",
   "mimetype": "text/x-python",
   "name": "python",
   "nbconvert_exporter": "python",
   "pygments_lexer": "ipython2",
   "version": "2.7.13"
  }
 },
 "nbformat": 4,
 "nbformat_minor": 1
}
