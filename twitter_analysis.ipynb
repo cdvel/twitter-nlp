{
 "cells": [
  {
   "cell_type": "code",
   "execution_count": 1,
   "metadata": {},
   "outputs": [],
   "source": [
    "### data\n",
    "import pandas as pd\n",
    "import numpy as np\n",
    "\n",
    "### APIs\n",
    "import tweepy\n",
    "\n",
    "## Plots\n",
    "from IPython.display import display\n",
    "import matplotlib.pyplot as plt\n",
    "import seaborn as sea\n",
    "get_ipython().magic('matplotlib inline')\n",
    "\n",
    "# Sentiment analysis\n",
    "from textblob import TextBlob\n",
    "import re, os, json"
   ]
  },
  {
   "cell_type": "code",
   "execution_count": 2,
   "metadata": {},
   "outputs": [],
   "source": [
    "with open(os.path.join(os.getcwd(),\"data/credentials.json\")) as data_file:    \n",
    "    key = json.load(data_file)\n",
    "\n",
    "#print key[\"API_KEY\"], key[\"API_SECRET\"], key[\"ACCESS_TOKEN\"], key[\"ACCESS_TOKEN_SECRET\"]"
   ]
  },
  {
   "cell_type": "code",
   "execution_count": 3,
   "metadata": {},
   "outputs": [],
   "source": [
    "def twitter_setup():\n",
    "    #authentication\n",
    "    auth = tweepy.OAuthHandler(key[\"API_KEY\"], key[\"API_SECRET\"])\n",
    "    auth.set_access_token(key[\"ACCESS_TOKEN\"], key[\"ACCESS_TOKEN_SECRET\"])    \n",
    "    return tweepy.API(auth)\n",
    "\n",
    "extractor = twitter_setup()\n",
    "\n"
   ]
  },
  {
   "cell_type": "code",
   "execution_count": 57,
   "metadata": {},
   "outputs": [
    {
     "name": "stdout",
     "output_type": "stream",
     "text": [
      "No. tweets extracted: 200\n",
      "\n"
     ]
    }
   ],
   "source": [
    "tweets = extractor.user_timeline(screen_name=\"cdvel\", count=200)\n",
    "print (\"No. tweets extracted: {}\\n\".format(len(tweets)))"
   ]
  },
  {
   "cell_type": "code",
   "execution_count": 58,
   "metadata": {},
   "outputs": [
    {
     "name": "stdout",
     "output_type": "stream",
     "text": [
      "Latest 5 tweets\n",
      "Brilliant: AI Wasting Time of Scammers https://t.co/kFHkwDIUe8 #ArtificialIntelligence #scams #marketing (Re:scam i… https://t.co/lXFEg2isTS\n",
      "()\n",
      "The Use of AI in Banking is Set to Explode https://t.co/TjyBizcJ0k\n",
      " #marketing #technology #ArtificialIntelligence… https://t.co/NyHh1VTiuB\n",
      "()\n",
      "10 Ways To Market Your Ecommerce Site | Marketing Insider Group https://t.co/hKq1PgnFNM\n",
      " #digitalmarketing… https://t.co/dVCF6phMiF\n",
      "()\n",
      "CCO Opens the Idea Garage for Inspiring B2B and B2C Content Marketing Examples\n",
      "https://t.co/YKY1h6Seyg\n",
      " #geberconsulting #contentmarketing\n",
      "()\n",
      "You can no longer tell real videos from fake ones! Say hello to the era of voice and image cloning… https://t.co/CripjnU4Kf\n",
      "()\n"
     ]
    }
   ],
   "source": [
    "print (\"Latest 5 tweets\")\n",
    "for tweet in tweets[:5]:\n",
    "    print (tweet.text)\n",
    "    print()\n"
   ]
  },
  {
   "cell_type": "code",
   "execution_count": 59,
   "metadata": {},
   "outputs": [
    {
     "data": {
      "text/html": [
       "<div>\n",
       "<style>\n",
       "    .dataframe thead tr:only-child th {\n",
       "        text-align: right;\n",
       "    }\n",
       "\n",
       "    .dataframe thead th {\n",
       "        text-align: left;\n",
       "    }\n",
       "\n",
       "    .dataframe tbody tr th {\n",
       "        vertical-align: top;\n",
       "    }\n",
       "</style>\n",
       "<table border=\"1\" class=\"dataframe\">\n",
       "  <thead>\n",
       "    <tr style=\"text-align: right;\">\n",
       "      <th></th>\n",
       "      <th>Tweets</th>\n",
       "      <th>length</th>\n",
       "      <th>id</th>\n",
       "      <th>created</th>\n",
       "      <th>source</th>\n",
       "      <th>no_likes</th>\n",
       "      <th>no_retweets</th>\n",
       "      <th>slug</th>\n",
       "    </tr>\n",
       "  </thead>\n",
       "  <tbody>\n",
       "    <tr>\n",
       "      <th>0</th>\n",
       "      <td>Brilliant: AI Wasting Time of Scammers https:/...</td>\n",
       "      <td>140</td>\n",
       "      <td>955418537291649024</td>\n",
       "      <td>2018-01-22 12:35:04</td>\n",
       "      <td>Meet Edgar</td>\n",
       "      <td>0</td>\n",
       "      <td>0</td>\n",
       "      <td>MHiesboeck/status/955418537291649024</td>\n",
       "    </tr>\n",
       "    <tr>\n",
       "      <th>1</th>\n",
       "      <td>The Use of AI in Banking is Set to Explode htt...</td>\n",
       "      <td>139</td>\n",
       "      <td>955417051413262336</td>\n",
       "      <td>2018-01-22 12:29:10</td>\n",
       "      <td>Crowdfire - Go Big</td>\n",
       "      <td>0</td>\n",
       "      <td>0</td>\n",
       "      <td>MHiesboeck/status/955417051413262336</td>\n",
       "    </tr>\n",
       "    <tr>\n",
       "      <th>2</th>\n",
       "      <td>10 Ways To Market Your Ecommerce Site | Market...</td>\n",
       "      <td>131</td>\n",
       "      <td>955416020205924353</td>\n",
       "      <td>2018-01-22 12:25:04</td>\n",
       "      <td>Crowdfire - Go Big</td>\n",
       "      <td>0</td>\n",
       "      <td>0</td>\n",
       "      <td>MHiesboeck/status/955416020205924353</td>\n",
       "    </tr>\n",
       "    <tr>\n",
       "      <th>3</th>\n",
       "      <td>CCO Opens the Idea Garage for Inspiring B2B an...</td>\n",
       "      <td>138</td>\n",
       "      <td>955416020101009408</td>\n",
       "      <td>2018-01-22 12:25:04</td>\n",
       "      <td>Crowdfire - Go Big</td>\n",
       "      <td>0</td>\n",
       "      <td>0</td>\n",
       "      <td>MHiesboeck/status/955416020101009408</td>\n",
       "    </tr>\n",
       "    <tr>\n",
       "      <th>4</th>\n",
       "      <td>You can no longer tell real videos from fake o...</td>\n",
       "      <td>123</td>\n",
       "      <td>955410393761026048</td>\n",
       "      <td>2018-01-22 12:02:43</td>\n",
       "      <td>Meet Edgar</td>\n",
       "      <td>0</td>\n",
       "      <td>0</td>\n",
       "      <td>MHiesboeck/status/955410393761026048</td>\n",
       "    </tr>\n",
       "    <tr>\n",
       "      <th>5</th>\n",
       "      <td>AI Startup Embodied Intelligence Wants Robots ...</td>\n",
       "      <td>138</td>\n",
       "      <td>955405976957521921</td>\n",
       "      <td>2018-01-22 11:45:10</td>\n",
       "      <td>Meet Edgar</td>\n",
       "      <td>0</td>\n",
       "      <td>1</td>\n",
       "      <td>MHiesboeck/status/955405976957521921</td>\n",
       "    </tr>\n",
       "    <tr>\n",
       "      <th>6</th>\n",
       "      <td>RT @xlxnrxyhxrn: “The Intellectual Yet Idiot” ...</td>\n",
       "      <td>112</td>\n",
       "      <td>955405621251096577</td>\n",
       "      <td>2018-01-22 11:43:45</td>\n",
       "      <td>Twitter for iPhone</td>\n",
       "      <td>0</td>\n",
       "      <td>5</td>\n",
       "      <td>MHiesboeck/status/955405621251096577</td>\n",
       "    </tr>\n",
       "    <tr>\n",
       "      <th>7</th>\n",
       "      <td>Biggest Pain in Machine Learning? Dirty Spread...</td>\n",
       "      <td>115</td>\n",
       "      <td>955403421061918721</td>\n",
       "      <td>2018-01-22 11:35:00</td>\n",
       "      <td>Meet Edgar</td>\n",
       "      <td>0</td>\n",
       "      <td>0</td>\n",
       "      <td>MHiesboeck/status/955403421061918721</td>\n",
       "    </tr>\n",
       "    <tr>\n",
       "      <th>8</th>\n",
       "      <td>Survey: Brands Aren't Ready to Commit to Nativ...</td>\n",
       "      <td>136</td>\n",
       "      <td>955400966089650176</td>\n",
       "      <td>2018-01-22 11:25:15</td>\n",
       "      <td>Crowdfire - Go Big</td>\n",
       "      <td>0</td>\n",
       "      <td>0</td>\n",
       "      <td>MHiesboeck/status/955400966089650176</td>\n",
       "    </tr>\n",
       "    <tr>\n",
       "      <th>9</th>\n",
       "      <td>New Laser Technique Promises Photonic Devices ...</td>\n",
       "      <td>125</td>\n",
       "      <td>955396881118580736</td>\n",
       "      <td>2018-01-22 11:09:01</td>\n",
       "      <td>Meet Edgar</td>\n",
       "      <td>2</td>\n",
       "      <td>1</td>\n",
       "      <td>MHiesboeck/status/955396881118580736</td>\n",
       "    </tr>\n",
       "  </tbody>\n",
       "</table>\n",
       "</div>"
      ],
      "text/plain": [
       "                                              Tweets  length  \\\n",
       "0  Brilliant: AI Wasting Time of Scammers https:/...     140   \n",
       "1  The Use of AI in Banking is Set to Explode htt...     139   \n",
       "2  10 Ways To Market Your Ecommerce Site | Market...     131   \n",
       "3  CCO Opens the Idea Garage for Inspiring B2B an...     138   \n",
       "4  You can no longer tell real videos from fake o...     123   \n",
       "5  AI Startup Embodied Intelligence Wants Robots ...     138   \n",
       "6  RT @xlxnrxyhxrn: “The Intellectual Yet Idiot” ...     112   \n",
       "7  Biggest Pain in Machine Learning? Dirty Spread...     115   \n",
       "8  Survey: Brands Aren't Ready to Commit to Nativ...     136   \n",
       "9  New Laser Technique Promises Photonic Devices ...     125   \n",
       "\n",
       "                   id             created              source  no_likes  \\\n",
       "0  955418537291649024 2018-01-22 12:35:04          Meet Edgar         0   \n",
       "1  955417051413262336 2018-01-22 12:29:10  Crowdfire - Go Big         0   \n",
       "2  955416020205924353 2018-01-22 12:25:04  Crowdfire - Go Big         0   \n",
       "3  955416020101009408 2018-01-22 12:25:04  Crowdfire - Go Big         0   \n",
       "4  955410393761026048 2018-01-22 12:02:43          Meet Edgar         0   \n",
       "5  955405976957521921 2018-01-22 11:45:10          Meet Edgar         0   \n",
       "6  955405621251096577 2018-01-22 11:43:45  Twitter for iPhone         0   \n",
       "7  955403421061918721 2018-01-22 11:35:00          Meet Edgar         0   \n",
       "8  955400966089650176 2018-01-22 11:25:15  Crowdfire - Go Big         0   \n",
       "9  955396881118580736 2018-01-22 11:09:01          Meet Edgar         2   \n",
       "\n",
       "   no_retweets                                  slug  \n",
       "0            0  MHiesboeck/status/955418537291649024  \n",
       "1            0  MHiesboeck/status/955417051413262336  \n",
       "2            0  MHiesboeck/status/955416020205924353  \n",
       "3            0  MHiesboeck/status/955416020101009408  \n",
       "4            0  MHiesboeck/status/955410393761026048  \n",
       "5            1  MHiesboeck/status/955405976957521921  \n",
       "6            5  MHiesboeck/status/955405621251096577  \n",
       "7            0  MHiesboeck/status/955403421061918721  \n",
       "8            0  MHiesboeck/status/955400966089650176  \n",
       "9            1  MHiesboeck/status/955396881118580736  "
      ]
     },
     "metadata": {},
     "output_type": "display_data"
    }
   ],
   "source": [
    "data = pd.DataFrame(data=[tweet.text for tweet in tweets], columns=['Tweets'])\n",
    "data['length']  = np.array([len(tweet.text) for tweet in tweets])\n",
    "data['id']   = np.array([tweet.id for tweet in tweets])\n",
    "data['created'] = np.array([tweet.created_at for tweet in tweets])\n",
    "data['source'] = np.array([tweet.source for tweet in tweets])\n",
    "data['no_likes'] = np.array([tweet.favorite_count for tweet in tweets])\n",
    "data['no_retweets'] = np.array([tweet.retweet_count for tweet in tweets])\n",
    "data['slug'] = np.array([''.join([tweet.user.screen_name, '/status/', str(tweet.id)])  for tweet in tweets])\n",
    "\n",
    "\n",
    "#print tweet\n",
    "display(data.head(10))"
   ]
  },
  {
   "cell_type": "code",
   "execution_count": 60,
   "metadata": {
    "scrolled": true
   },
   "outputs": [
    {
     "name": "stdout",
     "output_type": "stream",
     "text": [
      "Tweet's avg length: 120.125\n",
      "\n",
      "Most liked: \n",
      "> 7 emerging technologies that have changed the #Enterprise https://t.co/pPAiEepI3R  #AI #AR #Blockchain #Drones #IoT… https://t.co/FNkAgVTCw2 length=140 ♡=12\n",
      "\n",
      "Most retweeted: \n",
      "> RT @IoTRecruiting: The Ramifications of Not Accepting Industry 4.0 - https://t.co/ovdQCAbyJP #Industry40 #IndustrialInternet #IIoT #IOT #Io… length=140 RTs=195\n"
     ]
    }
   ],
   "source": [
    "mean_length = np.mean(data['length'])\n",
    "\n",
    "print(\"Tweet's avg length: {}\".format(mean_length))\n",
    "\n",
    "likes_max = np.max(data['no_likes'])\n",
    "retweets_max = np.max(data['no_retweets'])\n",
    "\n",
    "most_likes = data[data.no_likes == likes_max].index[0]\n",
    "most_retweets = data[data.no_retweets == retweets_max].index[0]\n",
    "\n",
    "print (\"\\nMost liked: \\n> {} length={} ♡={}\".format(data['Tweets'][most_likes].encode('utf-8'), data['length'][most_likes], likes_max))\n",
    "print (\"\\nMost retweeted: \\n> {} length={} RTs={}\".format(data['Tweets'][most_retweets].encode('utf-8'), data['length'][most_retweets], retweets_max))"
   ]
  },
  {
   "cell_type": "code",
   "execution_count": 61,
   "metadata": {},
   "outputs": [
    {
     "data": {
      "text/plain": [
       "<matplotlib.axes._subplots.AxesSubplot at 0x7fefa41e33d0>"
      ]
     },
     "execution_count": 61,
     "metadata": {},
     "output_type": "execute_result"
    },
    {
     "data": {
      "image/png": "[encoded data removed]",
      "text/plain": [
       "<matplotlib.figure.Figure at 0x7fef9f864410>"
      ]
     },
     "metadata": {},
     "output_type": "display_data"
    }
   ],
   "source": [
    "series_length = pd.Series(data=data['length'].values, index=data['created'])\n",
    "series_likes  = pd.Series(data=data['no_likes'].values, index=data['created'])\n",
    "series_retweets = pd.Series(data=data['no_retweets'].values, index=data['created'])\n",
    "\n",
    "series_length.plot(figsize=(16,4), color='r')"
   ]
  },
  {
   "cell_type": "code",
   "execution_count": 62,
   "metadata": {},
   "outputs": [
    {
     "data": {
      "text/plain": [
       "<matplotlib.axes._subplots.AxesSubplot at 0x7fefa41df950>"
      ]
     },
     "execution_count": 62,
     "metadata": {},
     "output_type": "execute_result"
    },
    {
     "data": {
      "image/png": "[encoded data removed]",
      "text/plain": [
       "<matplotlib.figure.Figure at 0x7fefa8d83a90>"
      ]
     },
     "metadata": {},
     "output_type": "display_data"
    }
   ],
   "source": [
    "series_likes.plot(figsize=(16,4), label='Likes', legend=True)\n",
    "series_retweets.plot(figsize=(16,4), label='Retweets', legend=True)"
   ]
  },
  {
   "cell_type": "code",
   "execution_count": 63,
   "metadata": {},
   "outputs": [
    {
     "name": "stdout",
     "output_type": "stream",
     "text": [
      "Sources: ['Meet Edgar', 'Crowdfire - Go Big', 'RoundTeam', 'Twitter for iPhone']\n"
     ]
    }
   ],
   "source": [
    "all_sources = []\n",
    "for source in data['source']:\n",
    "    all_sources.append(str(source))\n",
    "\n",
    "all_sources = list(set(all_sources))    \n",
    "print(\"Sources: {}\".format(all_sources))\n"
   ]
  },
  {
   "cell_type": "code",
   "execution_count": 64,
   "metadata": {},
   "outputs": [
    {
     "data": {
      "text/plain": [
       "<matplotlib.axes._subplots.AxesSubplot at 0x7fefa41f5e90>"
      ]
     },
     "execution_count": 64,
     "metadata": {},
     "output_type": "execute_result"
    },
    {
     "data": {
      "image/png": "[encoded data removed]",
      "text/plain": [
       "<matplotlib.figure.Figure at 0x7fefa42d3090>"
      ]
     },
     "metadata": {},
     "output_type": "display_data"
    }
   ],
   "source": [
    "percent = np.zeros(len(all_sources))\n",
    "\n",
    "for src in data['source']:\n",
    "    percent[all_sources.index(src)] += 1\n",
    "\n",
    "percent /= 100\n",
    "\n",
    "pie_chart = pd.Series(percent, index=all_sources, name='sources')\n",
    "pie_chart.plot.pie(fontsize=11, autopct='%.2f', figsize=(6,6))"
   ]
  },
  {
   "cell_type": "code",
   "execution_count": 65,
   "metadata": {
    "scrolled": true
   },
   "outputs": [
    {
     "data": {
      "text/html": [
       "<div>\n",
       "<style>\n",
       "    .dataframe thead tr:only-child th {\n",
       "        text-align: right;\n",
       "    }\n",
       "\n",
       "    .dataframe thead th {\n",
       "        text-align: left;\n",
       "    }\n",
       "\n",
       "    .dataframe tbody tr th {\n",
       "        vertical-align: top;\n",
       "    }\n",
       "</style>\n",
       "<table border=\"1\" class=\"dataframe\">\n",
       "  <thead>\n",
       "    <tr style=\"text-align: right;\">\n",
       "      <th></th>\n",
       "      <th>Tweets</th>\n",
       "      <th>length</th>\n",
       "      <th>id</th>\n",
       "      <th>created</th>\n",
       "      <th>source</th>\n",
       "      <th>no_likes</th>\n",
       "      <th>no_retweets</th>\n",
       "      <th>slug</th>\n",
       "      <th>sentiment</th>\n",
       "    </tr>\n",
       "  </thead>\n",
       "  <tbody>\n",
       "    <tr>\n",
       "      <th>0</th>\n",
       "      <td>Brilliant: AI Wasting Time of Scammers https:/...</td>\n",
       "      <td>140</td>\n",
       "      <td>955418537291649024</td>\n",
       "      <td>2018-01-22 12:35:04</td>\n",
       "      <td>Meet Edgar</td>\n",
       "      <td>0</td>\n",
       "      <td>0</td>\n",
       "      <td>MHiesboeck/status/955418537291649024</td>\n",
       "      <td>1</td>\n",
       "    </tr>\n",
       "    <tr>\n",
       "      <th>1</th>\n",
       "      <td>The Use of AI in Banking is Set to Explode htt...</td>\n",
       "      <td>139</td>\n",
       "      <td>955417051413262336</td>\n",
       "      <td>2018-01-22 12:29:10</td>\n",
       "      <td>Crowdfire - Go Big</td>\n",
       "      <td>0</td>\n",
       "      <td>0</td>\n",
       "      <td>MHiesboeck/status/955417051413262336</td>\n",
       "      <td>0</td>\n",
       "    </tr>\n",
       "    <tr>\n",
       "      <th>2</th>\n",
       "      <td>10 Ways To Market Your Ecommerce Site | Market...</td>\n",
       "      <td>131</td>\n",
       "      <td>955416020205924353</td>\n",
       "      <td>2018-01-22 12:25:04</td>\n",
       "      <td>Crowdfire - Go Big</td>\n",
       "      <td>0</td>\n",
       "      <td>0</td>\n",
       "      <td>MHiesboeck/status/955416020205924353</td>\n",
       "      <td>0</td>\n",
       "    </tr>\n",
       "    <tr>\n",
       "      <th>3</th>\n",
       "      <td>CCO Opens the Idea Garage for Inspiring B2B an...</td>\n",
       "      <td>138</td>\n",
       "      <td>955416020101009408</td>\n",
       "      <td>2018-01-22 12:25:04</td>\n",
       "      <td>Crowdfire - Go Big</td>\n",
       "      <td>0</td>\n",
       "      <td>0</td>\n",
       "      <td>MHiesboeck/status/955416020101009408</td>\n",
       "      <td>1</td>\n",
       "    </tr>\n",
       "    <tr>\n",
       "      <th>4</th>\n",
       "      <td>You can no longer tell real videos from fake o...</td>\n",
       "      <td>123</td>\n",
       "      <td>955410393761026048</td>\n",
       "      <td>2018-01-22 12:02:43</td>\n",
       "      <td>Meet Edgar</td>\n",
       "      <td>0</td>\n",
       "      <td>0</td>\n",
       "      <td>MHiesboeck/status/955410393761026048</td>\n",
       "      <td>-1</td>\n",
       "    </tr>\n",
       "    <tr>\n",
       "      <th>5</th>\n",
       "      <td>AI Startup Embodied Intelligence Wants Robots ...</td>\n",
       "      <td>138</td>\n",
       "      <td>955405976957521921</td>\n",
       "      <td>2018-01-22 11:45:10</td>\n",
       "      <td>Meet Edgar</td>\n",
       "      <td>0</td>\n",
       "      <td>1</td>\n",
       "      <td>MHiesboeck/status/955405976957521921</td>\n",
       "      <td>1</td>\n",
       "    </tr>\n",
       "    <tr>\n",
       "      <th>6</th>\n",
       "      <td>RT @xlxnrxyhxrn: “The Intellectual Yet Idiot” ...</td>\n",
       "      <td>112</td>\n",
       "      <td>955405621251096577</td>\n",
       "      <td>2018-01-22 11:43:45</td>\n",
       "      <td>Twitter for iPhone</td>\n",
       "      <td>0</td>\n",
       "      <td>5</td>\n",
       "      <td>MHiesboeck/status/955405621251096577</td>\n",
       "      <td>-1</td>\n",
       "    </tr>\n",
       "    <tr>\n",
       "      <th>7</th>\n",
       "      <td>Biggest Pain in Machine Learning? Dirty Spread...</td>\n",
       "      <td>115</td>\n",
       "      <td>955403421061918721</td>\n",
       "      <td>2018-01-22 11:35:00</td>\n",
       "      <td>Meet Edgar</td>\n",
       "      <td>0</td>\n",
       "      <td>0</td>\n",
       "      <td>MHiesboeck/status/955403421061918721</td>\n",
       "      <td>-1</td>\n",
       "    </tr>\n",
       "    <tr>\n",
       "      <th>8</th>\n",
       "      <td>Survey: Brands Aren't Ready to Commit to Nativ...</td>\n",
       "      <td>136</td>\n",
       "      <td>955400966089650176</td>\n",
       "      <td>2018-01-22 11:25:15</td>\n",
       "      <td>Crowdfire - Go Big</td>\n",
       "      <td>0</td>\n",
       "      <td>0</td>\n",
       "      <td>MHiesboeck/status/955400966089650176</td>\n",
       "      <td>1</td>\n",
       "    </tr>\n",
       "    <tr>\n",
       "      <th>9</th>\n",
       "      <td>New Laser Technique Promises Photonic Devices ...</td>\n",
       "      <td>125</td>\n",
       "      <td>955396881118580736</td>\n",
       "      <td>2018-01-22 11:09:01</td>\n",
       "      <td>Meet Edgar</td>\n",
       "      <td>2</td>\n",
       "      <td>1</td>\n",
       "      <td>MHiesboeck/status/955396881118580736</td>\n",
       "      <td>1</td>\n",
       "    </tr>\n",
       "  </tbody>\n",
       "</table>\n",
       "</div>"
      ],
      "text/plain": [
       "                                              Tweets  length  \\\n",
       "0  Brilliant: AI Wasting Time of Scammers https:/...     140   \n",
       "1  The Use of AI in Banking is Set to Explode htt...     139   \n",
       "2  10 Ways To Market Your Ecommerce Site | Market...     131   \n",
       "3  CCO Opens the Idea Garage for Inspiring B2B an...     138   \n",
       "4  You can no longer tell real videos from fake o...     123   \n",
       "5  AI Startup Embodied Intelligence Wants Robots ...     138   \n",
       "6  RT @xlxnrxyhxrn: “The Intellectual Yet Idiot” ...     112   \n",
       "7  Biggest Pain in Machine Learning? Dirty Spread...     115   \n",
       "8  Survey: Brands Aren't Ready to Commit to Nativ...     136   \n",
       "9  New Laser Technique Promises Photonic Devices ...     125   \n",
       "\n",
       "                   id             created              source  no_likes  \\\n",
       "0  955418537291649024 2018-01-22 12:35:04          Meet Edgar         0   \n",
       "1  955417051413262336 2018-01-22 12:29:10  Crowdfire - Go Big         0   \n",
       "2  955416020205924353 2018-01-22 12:25:04  Crowdfire - Go Big         0   \n",
       "3  955416020101009408 2018-01-22 12:25:04  Crowdfire - Go Big         0   \n",
       "4  955410393761026048 2018-01-22 12:02:43          Meet Edgar         0   \n",
       "5  955405976957521921 2018-01-22 11:45:10          Meet Edgar         0   \n",
       "6  955405621251096577 2018-01-22 11:43:45  Twitter for iPhone         0   \n",
       "7  955403421061918721 2018-01-22 11:35:00          Meet Edgar         0   \n",
       "8  955400966089650176 2018-01-22 11:25:15  Crowdfire - Go Big         0   \n",
       "9  955396881118580736 2018-01-22 11:09:01          Meet Edgar         2   \n",
       "\n",
       "   no_retweets                                  slug  sentiment  \n",
       "0            0  MHiesboeck/status/955418537291649024          1  \n",
       "1            0  MHiesboeck/status/955417051413262336          0  \n",
       "2            0  MHiesboeck/status/955416020205924353          0  \n",
       "3            0  MHiesboeck/status/955416020101009408          1  \n",
       "4            0  MHiesboeck/status/955410393761026048         -1  \n",
       "5            1  MHiesboeck/status/955405976957521921          1  \n",
       "6            5  MHiesboeck/status/955405621251096577         -1  \n",
       "7            0  MHiesboeck/status/955403421061918721         -1  \n",
       "8            0  MHiesboeck/status/955400966089650176          1  \n",
       "9            1  MHiesboeck/status/955396881118580736          1  "
      ]
     },
     "metadata": {},
     "output_type": "display_data"
    }
   ],
   "source": [
    "def analyse(tweet):\n",
    "    analysis = TextBlob(tweet)\n",
    "    return  1 if analysis.polarity > 0 else 0 if analysis.polarity == 0 else -1\n",
    "\n",
    "data['sentiment'] = np.array([analyse(tweet) for tweet in data['Tweets']])\n",
    "\n",
    "display(data.head(10))"
   ]
  },
  {
   "cell_type": "code",
   "execution_count": 66,
   "metadata": {},
   "outputs": [
    {
     "name": "stdout",
     "output_type": "stream",
     "text": [
      "👍: 65, 👎: 30, 😐: 105 \n"
     ]
    }
   ],
   "source": [
    "positives = [tweet for index, tweet in enumerate(data['Tweets']) if data['sentiment'][index] > 0]\n",
    "neutral   = [tweet for index, tweet in enumerate(data['Tweets']) if data['sentiment'][index] == 0]\n",
    "negatives = [tweet for index, tweet in enumerate(data['Tweets']) if data['sentiment'][index] < 0]\n",
    "\n",
    "print(\"👍: {}, 👎: {}, 😐: {} \". format(len(positives), len(negatives), len(neutral)))"
   ]
  },
  {
   "cell_type": "markdown",
   "metadata": {
    "collapsed": true
   },
   "source": [
    "### References \n",
    "- https://github.com/avisaxena33/Twitter-Data-Sentiment-Analysis-with-Python-Workshop/blob/master/twitter.py\n",
    "\n",
    "### Notes\n",
    "oauthlib, textblob for OSX64\n",
    "- https://anaconda.org/asmeurer/oauthlib\n",
    "- https://anaconda.org/sloria/textblob\n",
    "    "
   ]
  }
 ],
 "metadata": {
  "anaconda-cloud": {},
  "kernelspec": {
   "display_name": "Python 2",
   "language": "python",
   "name": "python2"
  },
  "language_info": {
   "codemirror_mode": {
    "name": "ipython",
    "version": 2
   },
   "file_extension": ".py",
   "mimetype": "text/x-python",
   "name": "python",
   "nbconvert_exporter": "python",
   "pygments_lexer": "ipython2",
   "version": "2.7.13"
  },
  "nbpresent": {
   "slides": {},
   "themes": {
    "default": "fde2c7b6-884e-449b-8b74-268e01c003ba",
    "theme": {
     "466e33f6-df2d-4c0e-8c26-2a0a52b019af": {
      "backgrounds": {
       "backgroundColor": {
        "background-color": "backgroundColor",
        "id": "backgroundColor"
       }
      },
      "id": "466e33f6-df2d-4c0e-8c26-2a0a52b019af",
      "palette": {
       "backgroundColor": {
        "id": "backgroundColor",
        "rgb": [
         0,
         43,
         54
        ]
       },
       "headingColor": {
        "id": "headingColor",
        "rgb": [
         238,
         232,
         213
        ]
       },
       "linkColor": {
        "id": "linkColor",
        "rgb": [
         38,
         139,
         210
        ]
       },
       "mainColor": {
        "id": "mainColor",
        "rgb": [
         147,
         161,
         161
        ]
       }
      },
      "rules": {
       "a": {
        "color": "linkColor"
       },
       "h1": {
        "color": "headingColor",
        "font-family": "Oswald",
        "font-size": 7
       },
       "h2": {
        "color": "headingColor",
        "font-family": "Oswald",
        "font-size": 5
       },
       "h3": {
        "color": "headingColor",
        "font-family": "Oswald",
        "font-size": 3.75
       },
       "h4": {
        "color": "headingColor",
        "font-family": "Oswald",
        "font-size": 3
       },
       "h5": {
        "color": "headingColor",
        "font-family": "Oswald"
       },
       "h6": {
        "color": "headingColor",
        "font-family": "Oswald"
       },
       "h7": {
        "color": "headingColor",
        "font-family": "Oswald"
       },
       "li": {
        "color": "mainColor",
        "font-family": "Lato",
        "font-size": 5
       },
       "p": {
        "color": "mainColor",
        "font-family": "Lato",
        "font-size": 5
       }
      },
      "text-base": {
       "color": "mainColor",
       "font-family": "Lato",
       "font-size": 5
      }
     },
     "a5de21f4-d526-4200-82e1-778d320c9a27": {
      "backgrounds": {
       "backgroundColor": {
        "background-color": "backgroundColor",
        "id": "backgroundColor"
       }
      },
      "id": "a5de21f4-d526-4200-82e1-778d320c9a27",
      "palette": {
       "backgroundColor": {
        "id": "backgroundColor",
        "rgb": [
         0,
         43,
         54
        ]
       },
       "headingColor": {
        "id": "headingColor",
        "rgb": [
         238,
         232,
         213
        ]
       },
       "linkColor": {
        "id": "linkColor",
        "rgb": [
         38,
         139,
         210
        ]
       },
       "mainColor": {
        "id": "mainColor",
        "rgb": [
         147,
         161,
         161
        ]
       }
      },
      "rules": {
       "a": {
        "color": "linkColor"
       },
       "h1": {
        "color": "headingColor",
        "font-family": "Oswald",
        "font-size": 7
       },
       "h2": {
        "color": "headingColor",
        "font-family": "Oswald",
        "font-size": 5
       },
       "h3": {
        "color": "headingColor",
        "font-family": "Oswald",
        "font-size": 3.75
       },
       "h4": {
        "color": "headingColor",
        "font-family": "Oswald",
        "font-size": 3
       },
       "h5": {
        "color": "headingColor",
        "font-family": "Oswald"
       },
       "h6": {
        "color": "headingColor",
        "font-family": "Oswald"
       },
       "h7": {
        "color": "headingColor",
        "font-family": "Oswald"
       },
       "li": {
        "color": "mainColor",
        "font-family": "Lato",
        "font-size": 5
       },
       "p": {
        "color": "mainColor",
        "font-family": "Lato",
        "font-size": 5
       }
      },
      "text-base": {
       "color": "mainColor",
       "font-family": "Lato",
       "font-size": 5
      }
     },
     "fde2c7b6-884e-449b-8b74-268e01c003ba": {
      "backgrounds": {
       "backgroundColor": {
        "background-color": "backgroundColor",
        "id": "backgroundColor"
       }
      },
      "id": "fde2c7b6-884e-449b-8b74-268e01c003ba",
      "palette": {
       "backgroundColor": {
        "id": "backgroundColor",
        "rgb": [
         0,
         43,
         54
        ]
       },
       "headingColor": {
        "id": "headingColor",
        "rgb": [
         238,
         232,
         213
        ]
       },
       "linkColor": {
        "id": "linkColor",
        "rgb": [
         38,
         139,
         210
        ]
       },
       "mainColor": {
        "id": "mainColor",
        "rgb": [
         147,
         161,
         161
        ]
       }
      },
      "rules": {
       "a": {
        "color": "linkColor"
       },
       "h1": {
        "color": "headingColor",
        "font-family": "Oswald",
        "font-size": 7
       },
       "h2": {
        "color": "headingColor",
        "font-family": "Oswald",
        "font-size": 5
       },
       "h3": {
        "color": "headingColor",
        "font-family": "Oswald",
        "font-size": 3.75
       },
       "h4": {
        "color": "headingColor",
        "font-family": "Oswald",
        "font-size": 3
       },
       "h5": {
        "color": "headingColor",
        "font-family": "Oswald"
       },
       "h6": {
        "color": "headingColor",
        "font-family": "Oswald"
       },
       "h7": {
        "color": "headingColor",
        "font-family": "Oswald"
       },
       "li": {
        "color": "mainColor",
        "font-family": "Lato",
        "font-size": 5
       },
       "p": {
        "color": "mainColor",
        "font-family": "Lato",
        "font-size": 5
       }
      },
      "text-base": {
       "color": "mainColor",
       "font-family": "Lato",
       "font-size": 5
      }
     }
    }
   }
  }
 },
 "nbformat": 4,
 "nbformat_minor": 1
}
