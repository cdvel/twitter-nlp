{
 "cells": [
  {
   "cell_type": "code",
   "execution_count": 1,
   "metadata": {},
   "outputs": [],
   "source": [
    "### data\n",
    "import pandas as pd\n",
    "import numpy as np\n",
    "\n",
    "### APIs\n",
    "import tweepy\n",
    "\n",
    "## Plots\n",
    "from IPython.display import display\n",
    "import matplotlib.pyplot as plt\n",
    "import seaborn as sea\n",
    "get_ipython().magic('matplotlib inline')\n",
    "\n",
    "# Sentiment analysis\n",
    "from textblob import TextBlob\n",
    "import re, os, json"
   ]
  },
  {
   "cell_type": "code",
   "execution_count": 2,
   "metadata": {},
   "outputs": [],
   "source": [
    "screen_name = 'cdvel'\n",
    "\n",
    "with open(os.path.join(os.getcwd(),\"data/credentials.json\")) as data_file:    \n",
    "    key = json.load(data_file)\n",
    "\n",
    "#print key[\"API_KEY\"], key[\"API_SECRET\"], key[\"ACCESS_TOKEN\"], key[\"ACCESS_TOKEN_SECRET\"]"
   ]
  },
  {
   "cell_type": "code",
   "execution_count": 3,
   "metadata": {},
   "outputs": [],
   "source": [
    "def twitter_setup():\n",
    "    #authentication\n",
    "    auth = tweepy.OAuthHandler(key[\"API_KEY\"], key[\"API_SECRET\"])\n",
    "    auth.set_access_token(key[\"ACCESS_TOKEN\"], key[\"ACCESS_TOKEN_SECRET\"])    \n",
    "    return tweepy.API(auth)\n",
    "\n",
    "extractor = twitter_setup()\n",
    "\n"
   ]
  },
  {
   "cell_type": "code",
   "execution_count": 4,
   "metadata": {},
   "outputs": [
    {
     "name": "stdout",
     "output_type": "stream",
     "text": [
      "No. tweets collected: 1000\n",
      "\n"
     ]
    }
   ],
   "source": [
    "tweets = [];\n",
    "\n",
    "for page in xrange(5):\n",
    "        tweets = tweets + extractor.user_timeline(screen_name=screen_name, count=200, pagination=page+1)\n",
    "\n",
    "print (\"No. tweets collected: {}\\n\".format(len(tweets)))"
   ]
  },
  {
   "cell_type": "code",
   "execution_count": 5,
   "metadata": {
    "scrolled": true
   },
   "outputs": [
    {
     "name": "stdout",
     "output_type": "stream",
     "text": [
      "\n",
      "\"Just what we all wanted: super secret, super long meetings that span the entire world\" #QuantumComputing \n",
      "\n",
      "https://t.co/RrwxRTN1aj\n",
      "\n",
      "Where does all our training data derive from? Did someone, long ago, sit around a computer labeling fingers?… https://t.co/1ZRKOduxJj\n",
      "\n",
      "RT @jwangARK: TSMC — the world's largest chip factory — is all about crypto all of a sudden.\n",
      "Bitmain is buying ~20k 16nm wafers a month. Th…\n",
      "\n",
      "Google CEO Sundar Pichai says AI is more profound than electricity or fire https://t.co/7uhp2icRse\n",
      "\n",
      "WhatsApp launches a separate app for small businesses https://t.co/0YQ5ZsxGJo\n",
      "\n",
      "LG has distributed its AI-based platform, DeepThinQ 1.0 to other products as well https://t.co/ewcI9PUo9D via @reddit\n",
      "\n",
      "How to tame the tech titans - Competition in the digital age https://t.co/toGDcyS3oh\n",
      "\n",
      "Microsoft execs say in 20 years we'll all have digital assistants that will be our alter egos — and we need to set https://t.co/UvYjDZ3n9q\n",
      "\n",
      "Facebook's next news feed tweak: ranking 'trusted' sources https://t.co/DG1Nm5QJ3V\n",
      "\n",
      "Is video really the future of VR? https://t.co/jvafrWeKtV\n"
     ]
    }
   ],
   "source": [
    "for tweet in tweets[:10]:\n",
    "    print (\"\\n{}\".format(tweet.text.encode('utf-8')))\n"
   ]
  },
  {
   "cell_type": "code",
   "execution_count": 6,
   "metadata": {},
   "outputs": [
    {
     "data": {
      "text/html": [
       "<div>\n",
       "<style>\n",
       "    .dataframe thead tr:only-child th {\n",
       "        text-align: right;\n",
       "    }\n",
       "\n",
       "    .dataframe thead th {\n",
       "        text-align: left;\n",
       "    }\n",
       "\n",
       "    .dataframe tbody tr th {\n",
       "        vertical-align: top;\n",
       "    }\n",
       "</style>\n",
       "<table border=\"1\" class=\"dataframe\">\n",
       "  <thead>\n",
       "    <tr style=\"text-align: right;\">\n",
       "      <th></th>\n",
       "      <th>Tweets</th>\n",
       "      <th>length</th>\n",
       "      <th>id</th>\n",
       "      <th>created</th>\n",
       "      <th>source</th>\n",
       "      <th>no_likes</th>\n",
       "      <th>no_retweets</th>\n",
       "      <th>slug</th>\n",
       "    </tr>\n",
       "  </thead>\n",
       "  <tbody>\n",
       "    <tr>\n",
       "      <th>0</th>\n",
       "      <td>\"Just what we all wanted: super secret, super ...</td>\n",
       "      <td>131</td>\n",
       "      <td>955666497862586368</td>\n",
       "      <td>2018-01-23 05:00:23</td>\n",
       "      <td>Buffer</td>\n",
       "      <td>0</td>\n",
       "      <td>0</td>\n",
       "      <td>cdvel/status/955666497862586368</td>\n",
       "    </tr>\n",
       "    <tr>\n",
       "      <th>1</th>\n",
       "      <td>Where does all our training data derive from? ...</td>\n",
       "      <td>133</td>\n",
       "      <td>955635334963912704</td>\n",
       "      <td>2018-01-23 02:56:33</td>\n",
       "      <td>dlvr.it</td>\n",
       "      <td>0</td>\n",
       "      <td>0</td>\n",
       "      <td>cdvel/status/955635334963912704</td>\n",
       "    </tr>\n",
       "    <tr>\n",
       "      <th>2</th>\n",
       "      <td>RT @jwangARK: TSMC — the world's largest chip ...</td>\n",
       "      <td>140</td>\n",
       "      <td>955485255695298561</td>\n",
       "      <td>2018-01-22 17:00:11</td>\n",
       "      <td>Buffer</td>\n",
       "      <td>0</td>\n",
       "      <td>219</td>\n",
       "      <td>cdvel/status/955485255695298561</td>\n",
       "    </tr>\n",
       "    <tr>\n",
       "      <th>3</th>\n",
       "      <td>Google CEO Sundar Pichai says AI is more profo...</td>\n",
       "      <td>98</td>\n",
       "      <td>955451257287831553</td>\n",
       "      <td>2018-01-22 14:45:05</td>\n",
       "      <td>Crowdfire - Go Big</td>\n",
       "      <td>0</td>\n",
       "      <td>0</td>\n",
       "      <td>cdvel/status/955451257287831553</td>\n",
       "    </tr>\n",
       "    <tr>\n",
       "      <th>4</th>\n",
       "      <td>WhatsApp launches a separate app for small bus...</td>\n",
       "      <td>77</td>\n",
       "      <td>955448031381475329</td>\n",
       "      <td>2018-01-22 14:32:16</td>\n",
       "      <td>Crowdfire - Go Big</td>\n",
       "      <td>0</td>\n",
       "      <td>0</td>\n",
       "      <td>cdvel/status/955448031381475329</td>\n",
       "    </tr>\n",
       "    <tr>\n",
       "      <th>5</th>\n",
       "      <td>LG has distributed its AI-based platform, Deep...</td>\n",
       "      <td>117</td>\n",
       "      <td>955272971609817088</td>\n",
       "      <td>2018-01-22 02:56:39</td>\n",
       "      <td>dlvr.it</td>\n",
       "      <td>0</td>\n",
       "      <td>0</td>\n",
       "      <td>cdvel/status/955272971609817088</td>\n",
       "    </tr>\n",
       "    <tr>\n",
       "      <th>6</th>\n",
       "      <td>How to tame the tech titans - Competition in t...</td>\n",
       "      <td>84</td>\n",
       "      <td>955122950776283136</td>\n",
       "      <td>2018-01-21 17:00:31</td>\n",
       "      <td>Buffer</td>\n",
       "      <td>0</td>\n",
       "      <td>0</td>\n",
       "      <td>cdvel/status/955122950776283136</td>\n",
       "    </tr>\n",
       "    <tr>\n",
       "      <th>7</th>\n",
       "      <td>Microsoft execs say in 20 years we'll all have...</td>\n",
       "      <td>138</td>\n",
       "      <td>955091407093542912</td>\n",
       "      <td>2018-01-21 14:55:10</td>\n",
       "      <td>Crowdfire - Go Big</td>\n",
       "      <td>1</td>\n",
       "      <td>0</td>\n",
       "      <td>cdvel/status/955091407093542912</td>\n",
       "    </tr>\n",
       "    <tr>\n",
       "      <th>8</th>\n",
       "      <td>Facebook's next news feed tweak: ranking 'trus...</td>\n",
       "      <td>82</td>\n",
       "      <td>955088894281830400</td>\n",
       "      <td>2018-01-21 14:45:11</td>\n",
       "      <td>Crowdfire - Go Big</td>\n",
       "      <td>1</td>\n",
       "      <td>0</td>\n",
       "      <td>cdvel/status/955088894281830400</td>\n",
       "    </tr>\n",
       "    <tr>\n",
       "      <th>9</th>\n",
       "      <td>Is video really the future of VR? https://t.co...</td>\n",
       "      <td>57</td>\n",
       "      <td>955085500251017217</td>\n",
       "      <td>2018-01-21 14:31:42</td>\n",
       "      <td>Crowdfire - Go Big</td>\n",
       "      <td>0</td>\n",
       "      <td>0</td>\n",
       "      <td>cdvel/status/955085500251017217</td>\n",
       "    </tr>\n",
       "  </tbody>\n",
       "</table>\n",
       "</div>"
      ],
      "text/plain": [
       "                                              Tweets  length  \\\n",
       "0  \"Just what we all wanted: super secret, super ...     131   \n",
       "1  Where does all our training data derive from? ...     133   \n",
       "2  RT @jwangARK: TSMC — the world's largest chip ...     140   \n",
       "3  Google CEO Sundar Pichai says AI is more profo...      98   \n",
       "4  WhatsApp launches a separate app for small bus...      77   \n",
       "5  LG has distributed its AI-based platform, Deep...     117   \n",
       "6  How to tame the tech titans - Competition in t...      84   \n",
       "7  Microsoft execs say in 20 years we'll all have...     138   \n",
       "8  Facebook's next news feed tweak: ranking 'trus...      82   \n",
       "9  Is video really the future of VR? https://t.co...      57   \n",
       "\n",
       "                   id             created              source  no_likes  \\\n",
       "0  955666497862586368 2018-01-23 05:00:23              Buffer         0   \n",
       "1  955635334963912704 2018-01-23 02:56:33             dlvr.it         0   \n",
       "2  955485255695298561 2018-01-22 17:00:11              Buffer         0   \n",
       "3  955451257287831553 2018-01-22 14:45:05  Crowdfire - Go Big         0   \n",
       "4  955448031381475329 2018-01-22 14:32:16  Crowdfire - Go Big         0   \n",
       "5  955272971609817088 2018-01-22 02:56:39             dlvr.it         0   \n",
       "6  955122950776283136 2018-01-21 17:00:31              Buffer         0   \n",
       "7  955091407093542912 2018-01-21 14:55:10  Crowdfire - Go Big         1   \n",
       "8  955088894281830400 2018-01-21 14:45:11  Crowdfire - Go Big         1   \n",
       "9  955085500251017217 2018-01-21 14:31:42  Crowdfire - Go Big         0   \n",
       "\n",
       "   no_retweets                             slug  \n",
       "0            0  cdvel/status/955666497862586368  \n",
       "1            0  cdvel/status/955635334963912704  \n",
       "2          219  cdvel/status/955485255695298561  \n",
       "3            0  cdvel/status/955451257287831553  \n",
       "4            0  cdvel/status/955448031381475329  \n",
       "5            0  cdvel/status/955272971609817088  \n",
       "6            0  cdvel/status/955122950776283136  \n",
       "7            0  cdvel/status/955091407093542912  \n",
       "8            0  cdvel/status/955088894281830400  \n",
       "9            0  cdvel/status/955085500251017217  "
      ]
     },
     "metadata": {},
     "output_type": "display_data"
    }
   ],
   "source": [
    "data = pd.DataFrame(data=[tweet.text for tweet in tweets], columns=['Tweets'])\n",
    "data['length']  = np.array([len(tweet.text) for tweet in tweets])\n",
    "data['id']   = np.array([tweet.id for tweet in tweets])\n",
    "data['created'] = np.array([tweet.created_at for tweet in tweets])\n",
    "data['source'] = np.array([tweet.source for tweet in tweets])\n",
    "data['no_likes'] = np.array([tweet.favorite_count for tweet in tweets])\n",
    "data['no_retweets'] = np.array([tweet.retweet_count for tweet in tweets])\n",
    "data['slug'] = np.array([''.join([tweet.user.screen_name, '/status/', str(tweet.id)])  for tweet in tweets])\n",
    "\n",
    "\n",
    "#print tweet\n",
    "display(data.head(10))"
   ]
  },
  {
   "cell_type": "code",
   "execution_count": 7,
   "metadata": {
    "scrolled": true
   },
   "outputs": [
    {
     "name": "stdout",
     "output_type": "stream",
     "text": [
      "Tweet's avg length: 97.28\n",
      "\n",
      "Most liked: \n",
      "> Blockchain: Shifting From Internet of Information to Internet of Value https://t.co/QoH7fFOQJ6 length=94 ♡=2\n",
      "\n",
      "Most retweeted: \n",
      "> RT @Snowden: \"We can match your face to your car. We can match every face to an ID card. We can track your movements one week back in time.… length=140 RTs=14277\n"
     ]
    }
   ],
   "source": [
    "mean_length = np.mean(data['length'])\n",
    "\n",
    "print(\"Tweet's avg length: {}\".format(mean_length))\n",
    "\n",
    "likes_max = np.max(data['no_likes'])\n",
    "retweets_max = np.max(data['no_retweets'])\n",
    "\n",
    "most_likes = data[data.no_likes == likes_max].index[0]\n",
    "most_retweets = data[data.no_retweets == retweets_max].index[0]\n",
    "\n",
    "print (\"\\nMost liked: \\n> {} length={} ♡={}\".format(data['Tweets'][most_likes].encode('utf-8'), data['length'][most_likes], likes_max))\n",
    "print (\"\\nMost retweeted: \\n> {} length={} RTs={}\".format(data['Tweets'][most_retweets].encode('utf-8'), data['length'][most_retweets], retweets_max))"
   ]
  },
  {
   "cell_type": "code",
   "execution_count": 8,
   "metadata": {},
   "outputs": [
    {
     "data": {
      "text/plain": [
       "<matplotlib.axes._subplots.AxesSubplot at 0x7f7e841f9790>"
      ]
     },
     "execution_count": 8,
     "metadata": {},
     "output_type": "execute_result"
    },
    {
     "data": {
      "image/png": "[encoded data removed]",
      "text/plain": [
       "<matplotlib.figure.Figure at 0x7f7e863c4fd0>"
      ]
     },
     "metadata": {},
     "output_type": "display_data"
    }
   ],
   "source": [
    "series_length = pd.Series(data=data['length'].values, index=data['created'])\n",
    "series_likes  = pd.Series(data=data['no_likes'].values, index=data['created'])\n",
    "series_retweets = pd.Series(data=data['no_retweets'].values, index=data['created'])\n",
    "\n",
    "series_length.plot(figsize=(16,4), color='r')"
   ]
  },
  {
   "cell_type": "code",
   "execution_count": 9,
   "metadata": {
    "scrolled": true
   },
   "outputs": [
    {
     "data": {
      "text/plain": [
       "<matplotlib.axes._subplots.AxesSubplot at 0x7f7e81b6f6d0>"
      ]
     },
     "execution_count": 9,
     "metadata": {},
     "output_type": "execute_result"
    },
    {
     "data": {
      "image/png": "[encoded data removed]",
      "text/plain": [
       "<matplotlib.figure.Figure at 0x7f7e84280f90>"
      ]
     },
     "metadata": {},
     "output_type": "display_data"
    }
   ],
   "source": [
    "series_likes.plot(figsize=(16,4), label='Likes', legend=True)\n",
    "series_retweets.plot(figsize=(16,4), label='Retweets', legend=True)"
   ]
  },
  {
   "cell_type": "code",
   "execution_count": 11,
   "metadata": {},
   "outputs": [
    {
     "name": "stdout",
     "output_type": "stream",
     "text": [
      "Sources: ['IFTTT', 'Buffer', 'dlvr.it', 'Crowdfire - Go Big', 'Twitter for Android', 'Twitter Web Client']\n"
     ]
    }
   ],
   "source": [
    "all_sources = []\n",
    "for source in data['source']:\n",
    "    all_sources.append(str(source))\n",
    "\n",
    "all_sources = list(set(all_sources))    \n",
    "print(\"Sources: {}\".format(all_sources))\n"
   ]
  },
  {
   "cell_type": "code",
   "execution_count": 12,
   "metadata": {},
   "outputs": [
    {
     "data": {
      "text/plain": [
       "<matplotlib.axes._subplots.AxesSubplot at 0x7f7e81aacfd0>"
      ]
     },
     "execution_count": 12,
     "metadata": {},
     "output_type": "execute_result"
    },
    {
     "data": {
      "image/png": "[encoded data removed]",
      "text/plain": [
       "<matplotlib.figure.Figure at 0x7f7e81a6d790>"
      ]
     },
     "metadata": {},
     "output_type": "display_data"
    }
   ],
   "source": [
    "percent = np.zeros(len(all_sources))\n",
    "\n",
    "for src in data['source']:\n",
    "    percent[all_sources.index(src)] += 1\n",
    "\n",
    "percent /= 100\n",
    "\n",
    "pie_chart = pd.Series(percent, index=all_sources, name='sources')\n",
    "pie_chart.plot.pie(fontsize=11, autopct='%.2f', figsize=(6,6))"
   ]
  },
  {
   "cell_type": "code",
   "execution_count": 13,
   "metadata": {
    "scrolled": true
   },
   "outputs": [
    {
     "data": {
      "text/html": [
       "<div>\n",
       "<style>\n",
       "    .dataframe thead tr:only-child th {\n",
       "        text-align: right;\n",
       "    }\n",
       "\n",
       "    .dataframe thead th {\n",
       "        text-align: left;\n",
       "    }\n",
       "\n",
       "    .dataframe tbody tr th {\n",
       "        vertical-align: top;\n",
       "    }\n",
       "</style>\n",
       "<table border=\"1\" class=\"dataframe\">\n",
       "  <thead>\n",
       "    <tr style=\"text-align: right;\">\n",
       "      <th></th>\n",
       "      <th>Tweets</th>\n",
       "      <th>length</th>\n",
       "      <th>id</th>\n",
       "      <th>created</th>\n",
       "      <th>source</th>\n",
       "      <th>no_likes</th>\n",
       "      <th>no_retweets</th>\n",
       "      <th>slug</th>\n",
       "      <th>sentiment</th>\n",
       "    </tr>\n",
       "  </thead>\n",
       "  <tbody>\n",
       "    <tr>\n",
       "      <th>0</th>\n",
       "      <td>\"Just what we all wanted: super secret, super ...</td>\n",
       "      <td>131</td>\n",
       "      <td>955666497862586368</td>\n",
       "      <td>2018-01-23 05:00:23</td>\n",
       "      <td>Buffer</td>\n",
       "      <td>0</td>\n",
       "      <td>0</td>\n",
       "      <td>cdvel/status/955666497862586368</td>\n",
       "      <td>1</td>\n",
       "    </tr>\n",
       "    <tr>\n",
       "      <th>1</th>\n",
       "      <td>Where does all our training data derive from? ...</td>\n",
       "      <td>133</td>\n",
       "      <td>955635334963912704</td>\n",
       "      <td>2018-01-23 02:56:33</td>\n",
       "      <td>dlvr.it</td>\n",
       "      <td>0</td>\n",
       "      <td>0</td>\n",
       "      <td>cdvel/status/955635334963912704</td>\n",
       "      <td>-1</td>\n",
       "    </tr>\n",
       "    <tr>\n",
       "      <th>2</th>\n",
       "      <td>RT @jwangARK: TSMC — the world's largest chip ...</td>\n",
       "      <td>140</td>\n",
       "      <td>955485255695298561</td>\n",
       "      <td>2018-01-22 17:00:11</td>\n",
       "      <td>Buffer</td>\n",
       "      <td>0</td>\n",
       "      <td>219</td>\n",
       "      <td>cdvel/status/955485255695298561</td>\n",
       "      <td>0</td>\n",
       "    </tr>\n",
       "    <tr>\n",
       "      <th>3</th>\n",
       "      <td>Google CEO Sundar Pichai says AI is more profo...</td>\n",
       "      <td>98</td>\n",
       "      <td>955451257287831553</td>\n",
       "      <td>2018-01-22 14:45:05</td>\n",
       "      <td>Crowdfire - Go Big</td>\n",
       "      <td>0</td>\n",
       "      <td>0</td>\n",
       "      <td>cdvel/status/955451257287831553</td>\n",
       "      <td>1</td>\n",
       "    </tr>\n",
       "    <tr>\n",
       "      <th>4</th>\n",
       "      <td>WhatsApp launches a separate app for small bus...</td>\n",
       "      <td>77</td>\n",
       "      <td>955448031381475329</td>\n",
       "      <td>2018-01-22 14:32:16</td>\n",
       "      <td>Crowdfire - Go Big</td>\n",
       "      <td>0</td>\n",
       "      <td>0</td>\n",
       "      <td>cdvel/status/955448031381475329</td>\n",
       "      <td>-1</td>\n",
       "    </tr>\n",
       "    <tr>\n",
       "      <th>5</th>\n",
       "      <td>LG has distributed its AI-based platform, Deep...</td>\n",
       "      <td>117</td>\n",
       "      <td>955272971609817088</td>\n",
       "      <td>2018-01-22 02:56:39</td>\n",
       "      <td>dlvr.it</td>\n",
       "      <td>0</td>\n",
       "      <td>0</td>\n",
       "      <td>cdvel/status/955272971609817088</td>\n",
       "      <td>-1</td>\n",
       "    </tr>\n",
       "    <tr>\n",
       "      <th>6</th>\n",
       "      <td>How to tame the tech titans - Competition in t...</td>\n",
       "      <td>84</td>\n",
       "      <td>955122950776283136</td>\n",
       "      <td>2018-01-21 17:00:31</td>\n",
       "      <td>Buffer</td>\n",
       "      <td>0</td>\n",
       "      <td>0</td>\n",
       "      <td>cdvel/status/955122950776283136</td>\n",
       "      <td>-1</td>\n",
       "    </tr>\n",
       "    <tr>\n",
       "      <th>7</th>\n",
       "      <td>Microsoft execs say in 20 years we'll all have...</td>\n",
       "      <td>138</td>\n",
       "      <td>955091407093542912</td>\n",
       "      <td>2018-01-21 14:55:10</td>\n",
       "      <td>Crowdfire - Go Big</td>\n",
       "      <td>1</td>\n",
       "      <td>0</td>\n",
       "      <td>cdvel/status/955091407093542912</td>\n",
       "      <td>0</td>\n",
       "    </tr>\n",
       "    <tr>\n",
       "      <th>8</th>\n",
       "      <td>Facebook's next news feed tweak: ranking 'trus...</td>\n",
       "      <td>82</td>\n",
       "      <td>955088894281830400</td>\n",
       "      <td>2018-01-21 14:45:11</td>\n",
       "      <td>Crowdfire - Go Big</td>\n",
       "      <td>1</td>\n",
       "      <td>0</td>\n",
       "      <td>cdvel/status/955088894281830400</td>\n",
       "      <td>0</td>\n",
       "    </tr>\n",
       "    <tr>\n",
       "      <th>9</th>\n",
       "      <td>Is video really the future of VR? https://t.co...</td>\n",
       "      <td>57</td>\n",
       "      <td>955085500251017217</td>\n",
       "      <td>2018-01-21 14:31:42</td>\n",
       "      <td>Crowdfire - Go Big</td>\n",
       "      <td>0</td>\n",
       "      <td>0</td>\n",
       "      <td>cdvel/status/955085500251017217</td>\n",
       "      <td>1</td>\n",
       "    </tr>\n",
       "  </tbody>\n",
       "</table>\n",
       "</div>"
      ],
      "text/plain": [
       "                                              Tweets  length  \\\n",
       "0  \"Just what we all wanted: super secret, super ...     131   \n",
       "1  Where does all our training data derive from? ...     133   \n",
       "2  RT @jwangARK: TSMC — the world's largest chip ...     140   \n",
       "3  Google CEO Sundar Pichai says AI is more profo...      98   \n",
       "4  WhatsApp launches a separate app for small bus...      77   \n",
       "5  LG has distributed its AI-based platform, Deep...     117   \n",
       "6  How to tame the tech titans - Competition in t...      84   \n",
       "7  Microsoft execs say in 20 years we'll all have...     138   \n",
       "8  Facebook's next news feed tweak: ranking 'trus...      82   \n",
       "9  Is video really the future of VR? https://t.co...      57   \n",
       "\n",
       "                   id             created              source  no_likes  \\\n",
       "0  955666497862586368 2018-01-23 05:00:23              Buffer         0   \n",
       "1  955635334963912704 2018-01-23 02:56:33             dlvr.it         0   \n",
       "2  955485255695298561 2018-01-22 17:00:11              Buffer         0   \n",
       "3  955451257287831553 2018-01-22 14:45:05  Crowdfire - Go Big         0   \n",
       "4  955448031381475329 2018-01-22 14:32:16  Crowdfire - Go Big         0   \n",
       "5  955272971609817088 2018-01-22 02:56:39             dlvr.it         0   \n",
       "6  955122950776283136 2018-01-21 17:00:31              Buffer         0   \n",
       "7  955091407093542912 2018-01-21 14:55:10  Crowdfire - Go Big         1   \n",
       "8  955088894281830400 2018-01-21 14:45:11  Crowdfire - Go Big         1   \n",
       "9  955085500251017217 2018-01-21 14:31:42  Crowdfire - Go Big         0   \n",
       "\n",
       "   no_retweets                             slug  sentiment  \n",
       "0            0  cdvel/status/955666497862586368          1  \n",
       "1            0  cdvel/status/955635334963912704         -1  \n",
       "2          219  cdvel/status/955485255695298561          0  \n",
       "3            0  cdvel/status/955451257287831553          1  \n",
       "4            0  cdvel/status/955448031381475329         -1  \n",
       "5            0  cdvel/status/955272971609817088         -1  \n",
       "6            0  cdvel/status/955122950776283136         -1  \n",
       "7            0  cdvel/status/955091407093542912          0  \n",
       "8            0  cdvel/status/955088894281830400          0  \n",
       "9            0  cdvel/status/955085500251017217          1  "
      ]
     },
     "metadata": {},
     "output_type": "display_data"
    }
   ],
   "source": [
    "def analyse(tweet):\n",
    "    analysis = TextBlob(tweet)\n",
    "    return  1 if analysis.polarity > 0 else 0 if analysis.polarity == 0 else -1\n",
    "\n",
    "data['sentiment'] = np.array([analyse(tweet) for tweet in data['Tweets']])\n",
    "\n",
    "display(data.head(10))"
   ]
  },
  {
   "cell_type": "code",
   "execution_count": 14,
   "metadata": {},
   "outputs": [
    {
     "name": "stdout",
     "output_type": "stream",
     "text": [
      "👍: 320, 👎: 140, 😐: 540 \n"
     ]
    }
   ],
   "source": [
    "positives = [tweet for index, tweet in enumerate(data['Tweets']) if data['sentiment'][index] > 0]\n",
    "neutral   = [tweet for index, tweet in enumerate(data['Tweets']) if data['sentiment'][index] == 0]\n",
    "negatives = [tweet for index, tweet in enumerate(data['Tweets']) if data['sentiment'][index] < 0]\n",
    "\n",
    "print(\"👍: {}, 👎: {}, 😐: {} \". format(len(positives), len(negatives), len(neutral)))"
   ]
  },
  {
   "cell_type": "markdown",
   "metadata": {
    "collapsed": true
   },
   "source": [
    "### References \n",
    "- https://github.com/avisaxena33/Twitter-Data-Sentiment-Analysis-with-Python-Workshop/blob/master/twitter.py\n",
    "\n",
    "### Notes\n",
    "oauthlib, textblob for OSX64\n",
    "- https://anaconda.org/asmeurer/oauthlib\n",
    "- https://anaconda.org/sloria/textblob\n",
    "    "
   ]
  }
 ],
 "metadata": {
  "anaconda-cloud": {},
  "kernelspec": {
   "display_name": "Python 2",
   "language": "python",
   "name": "python2"
  },
  "language_info": {
   "codemirror_mode": {
    "name": "ipython",
    "version": 2
   },
   "file_extension": ".py",
   "mimetype": "text/x-python",
   "name": "python",
   "nbconvert_exporter": "python",
   "pygments_lexer": "ipython2",
   "version": "2.7.13"
  },
  "nbpresent": {
   "slides": {},
   "themes": {
    "default": "fde2c7b6-884e-449b-8b74-268e01c003ba",
    "theme": {
     "466e33f6-df2d-4c0e-8c26-2a0a52b019af": {
      "backgrounds": {
       "backgroundColor": {
        "background-color": "backgroundColor",
        "id": "backgroundColor"
       }
      },
      "id": "466e33f6-df2d-4c0e-8c26-2a0a52b019af",
      "palette": {
       "backgroundColor": {
        "id": "backgroundColor",
        "rgb": [
         0,
         43,
         54
        ]
       },
       "headingColor": {
        "id": "headingColor",
        "rgb": [
         238,
         232,
         213
        ]
       },
       "linkColor": {
        "id": "linkColor",
        "rgb": [
         38,
         139,
         210
        ]
       },
       "mainColor": {
        "id": "mainColor",
        "rgb": [
         147,
         161,
         161
        ]
       }
      },
      "rules": {
       "a": {
        "color": "linkColor"
       },
       "h1": {
        "color": "headingColor",
        "font-family": "Oswald",
        "font-size": 7
       },
       "h2": {
        "color": "headingColor",
        "font-family": "Oswald",
        "font-size": 5
       },
       "h3": {
        "color": "headingColor",
        "font-family": "Oswald",
        "font-size": 3.75
       },
       "h4": {
        "color": "headingColor",
        "font-family": "Oswald",
        "font-size": 3
       },
       "h5": {
        "color": "headingColor",
        "font-family": "Oswald"
       },
       "h6": {
        "color": "headingColor",
        "font-family": "Oswald"
       },
       "h7": {
        "color": "headingColor",
        "font-family": "Oswald"
       },
       "li": {
        "color": "mainColor",
        "font-family": "Lato",
        "font-size": 5
       },
       "p": {
        "color": "mainColor",
        "font-family": "Lato",
        "font-size": 5
       }
      },
      "text-base": {
       "color": "mainColor",
       "font-family": "Lato",
       "font-size": 5
      }
     },
     "a5de21f4-d526-4200-82e1-778d320c9a27": {
      "backgrounds": {
       "backgroundColor": {
        "background-color": "backgroundColor",
        "id": "backgroundColor"
       }
      },
      "id": "a5de21f4-d526-4200-82e1-778d320c9a27",
      "palette": {
       "backgroundColor": {
        "id": "backgroundColor",
        "rgb": [
         0,
         43,
         54
        ]
       },
       "headingColor": {
        "id": "headingColor",
        "rgb": [
         238,
         232,
         213
        ]
       },
       "linkColor": {
        "id": "linkColor",
        "rgb": [
         38,
         139,
         210
        ]
       },
       "mainColor": {
        "id": "mainColor",
        "rgb": [
         147,
         161,
         161
        ]
       }
      },
      "rules": {
       "a": {
        "color": "linkColor"
       },
       "h1": {
        "color": "headingColor",
        "font-family": "Oswald",
        "font-size": 7
       },
       "h2": {
        "color": "headingColor",
        "font-family": "Oswald",
        "font-size": 5
       },
       "h3": {
        "color": "headingColor",
        "font-family": "Oswald",
        "font-size": 3.75
       },
       "h4": {
        "color": "headingColor",
        "font-family": "Oswald",
        "font-size": 3
       },
       "h5": {
        "color": "headingColor",
        "font-family": "Oswald"
       },
       "h6": {
        "color": "headingColor",
        "font-family": "Oswald"
       },
       "h7": {
        "color": "headingColor",
        "font-family": "Oswald"
       },
       "li": {
        "color": "mainColor",
        "font-family": "Lato",
        "font-size": 5
       },
       "p": {
        "color": "mainColor",
        "font-family": "Lato",
        "font-size": 5
       }
      },
      "text-base": {
       "color": "mainColor",
       "font-family": "Lato",
       "font-size": 5
      }
     },
     "fde2c7b6-884e-449b-8b74-268e01c003ba": {
      "backgrounds": {
       "backgroundColor": {
        "background-color": "backgroundColor",
        "id": "backgroundColor"
       }
      },
      "id": "fde2c7b6-884e-449b-8b74-268e01c003ba",
      "palette": {
       "backgroundColor": {
        "id": "backgroundColor",
        "rgb": [
         0,
         43,
         54
        ]
       },
       "headingColor": {
        "id": "headingColor",
        "rgb": [
         238,
         232,
         213
        ]
       },
       "linkColor": {
        "id": "linkColor",
        "rgb": [
         38,
         139,
         210
        ]
       },
       "mainColor": {
        "id": "mainColor",
        "rgb": [
         147,
         161,
         161
        ]
       }
      },
      "rules": {
       "a": {
        "color": "linkColor"
       },
       "h1": {
        "color": "headingColor",
        "font-family": "Oswald",
        "font-size": 7
       },
       "h2": {
        "color": "headingColor",
        "font-family": "Oswald",
        "font-size": 5
       },
       "h3": {
        "color": "headingColor",
        "font-family": "Oswald",
        "font-size": 3.75
       },
       "h4": {
        "color": "headingColor",
        "font-family": "Oswald",
        "font-size": 3
       },
       "h5": {
        "color": "headingColor",
        "font-family": "Oswald"
       },
       "h6": {
        "color": "headingColor",
        "font-family": "Oswald"
       },
       "h7": {
        "color": "headingColor",
        "font-family": "Oswald"
       },
       "li": {
        "color": "mainColor",
        "font-family": "Lato",
        "font-size": 5
       },
       "p": {
        "color": "mainColor",
        "font-family": "Lato",
        "font-size": 5
       }
      },
      "text-base": {
       "color": "mainColor",
       "font-family": "Lato",
       "font-size": 5
      }
     }
    }
   }
  }
 },
 "nbformat": 4,
 "nbformat_minor": 1
}
